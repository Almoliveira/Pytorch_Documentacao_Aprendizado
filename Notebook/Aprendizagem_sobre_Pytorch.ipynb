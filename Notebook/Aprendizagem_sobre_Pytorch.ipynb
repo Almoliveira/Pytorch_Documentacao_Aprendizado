{
  "nbformat": 4,
  "nbformat_minor": 0,
  "metadata": {
    "colab": {
      "name": "Aprendizagem sobre Pytorch.ipynb",
      "provenance": [],
      "collapsed_sections": []
    },
    "kernelspec": {
      "name": "python3",
      "display_name": "Python 3"
    },
    "language_info": {
      "name": "python"
    }
  },
  "cells": [
    {
      "cell_type": "markdown",
      "metadata": {
        "id": "dIUe8g7t6t-o"
      },
      "source": [
        "## Aqui vamos realizar o estudo de como funciona o  Pytorch\n"
      ]
    },
    {
      "cell_type": "markdown",
      "metadata": {
        "id": "qH6-B_UpAMMh"
      },
      "source": [
        "Esse código é referente ao guia de uso do pytorch disponivel em: https://pytorch.org/tutorials/beginner/basics/quickstart_tutorial.html"
      ]
    },
    {
      "cell_type": "markdown",
      "metadata": {
        "id": "hlE833jc67Om"
      },
      "source": [
        "\n",
        "Primeiramente vamos realizar os devidos imports das bibliotecas."
      ]
    },
    {
      "cell_type": "code",
      "metadata": {
        "id": "QJI45cyn6dw6"
      },
      "source": [
        "import torch\n",
        "from torch import nn\n",
        "from torch.utils.data import DataLoader\n",
        "from torchvision import datasets\n",
        "from torchvision.transforms import ToTensor, Lambda, Compose\n",
        "import matplotlib.pyplot as plt"
      ],
      "execution_count": null,
      "outputs": []
    },
    {
      "cell_type": "markdown",
      "metadata": {
        "id": "p4OGmaCr7Fvh"
      },
      "source": [
        "Agora iremos realiza o download de dois dos nossos datasets.\n",
        " Um será de dados para o treinamento e o outro para de teste"
      ]
    },
    {
      "cell_type": "code",
      "metadata": {
        "colab": {
          "base_uri": "https://localhost:8080/"
        },
        "id": "YSApoNyt6soF",
        "outputId": "11bb0073-6e44-4195-9b3a-723555b0940b"
      },
      "source": [
        "# Download training data from open datasets.\n",
        "training_data = datasets.FashionMNIST(\n",
        "    root=\"data\",\n",
        "    train=True,\n",
        "    download=True,\n",
        "    transform=ToTensor(),\n",
        ")\n",
        "\n",
        "# Download test data from open datasets.\n",
        "test_data = datasets.FashionMNIST(\n",
        "    root=\"data\",\n",
        "    train=False,\n",
        "    download=True,\n",
        "    transform=ToTensor(),\n",
        ")"
      ],
      "execution_count": null,
      "outputs": [
        {
          "output_type": "stream",
          "name": "stderr",
          "text": [
            "/usr/local/lib/python3.7/dist-packages/torchvision/datasets/mnist.py:498: UserWarning: The given NumPy array is not writeable, and PyTorch does not support non-writeable tensors. This means you can write to the underlying (supposedly non-writeable) NumPy array using the tensor. You may want to copy the array to protect its data or make it writeable before converting it to a tensor. This type of warning will be suppressed for the rest of this program. (Triggered internally at  /pytorch/torch/csrc/utils/tensor_numpy.cpp:180.)\n",
            "  return torch.from_numpy(parsed.astype(m[2], copy=False)).view(*s)\n"
          ]
        }
      ]
    },
    {
      "cell_type": "code",
      "metadata": {
        "id": "R8rCf-sX7azp"
      },
      "source": [
        ""
      ],
      "execution_count": null,
      "outputs": []
    },
    {
      "cell_type": "markdown",
      "metadata": {
        "id": "fNvV4s4J7kGg"
      },
      "source": [
        " Definimos nossos dataloaders com um tamanho de Batch de 64."
      ]
    },
    {
      "cell_type": "code",
      "metadata": {
        "colab": {
          "base_uri": "https://localhost:8080/"
        },
        "id": "FIUM8U4Q73sr",
        "outputId": "7cba8501-d6ac-4e8d-83fe-51d93e0be3a8"
      },
      "source": [
        "batch_size = 64\n",
        "\n",
        "# Create data loaders.\n",
        "train_dataloader = DataLoader(training_data, batch_size=batch_size)\n",
        "test_dataloader = DataLoader(test_data, batch_size=batch_size)\n",
        "\n",
        "for X, y in test_dataloader:\n",
        "    print(\"Shape of X [N, C, H, W]: \", X.shape)\n",
        "    print(\"Shape of y: \", y.shape, y.dtype)\n",
        "    break"
      ],
      "execution_count": null,
      "outputs": [
        {
          "output_type": "stream",
          "name": "stdout",
          "text": [
            "Shape of X [N, C, H, W]:  torch.Size([64, 1, 28, 28])\n",
            "Shape of y:  torch.Size([64]) torch.int64\n"
          ]
        }
      ]
    },
    {
      "cell_type": "markdown",
      "metadata": {
        "id": "DV3iSBR87_Mi"
      },
      "source": [
        "Agora verificamos se utilizaremos a CPU ou GPU para o treinamento.\n"
      ]
    },
    {
      "cell_type": "code",
      "metadata": {
        "colab": {
          "base_uri": "https://localhost:8080/"
        },
        "id": "fkrKHBbV8Q3-",
        "outputId": "e25246ae-2627-4275-92c1-e8bf7264b627"
      },
      "source": [
        "# Get cpu or gpu device for training.\n",
        "device = \"cuda\" if torch.cuda.is_available() else \"cpu\"\n",
        "print(\"Using {} device\".format(device))"
      ],
      "execution_count": null,
      "outputs": [
        {
          "output_type": "stream",
          "name": "stdout",
          "text": [
            "Using cpu device\n"
          ]
        }
      ]
    },
    {
      "cell_type": "markdown",
      "metadata": {
        "id": "TneTNbas8hBV"
      },
      "source": [
        "Definimos uma classe chamada NeuralNetwork onde ela herda de __nn.Module__,nós definimos as camadas de conexão na função ____init____ e definimos como os dados serão transmitidos através da rede na função __forward__."
      ]
    },
    {
      "cell_type": "code",
      "metadata": {
        "colab": {
          "base_uri": "https://localhost:8080/"
        },
        "id": "YuE_wV1t9KtS",
        "outputId": "8fefceee-e7d5-4849-d5e7-ba121f76fdde"
      },
      "source": [
        "# Define model\n",
        "class NeuralNetwork(nn.Module):\n",
        "    def __init__(self):\n",
        "        super(NeuralNetwork, self).__init__()\n",
        "        self.flatten = nn.Flatten()\n",
        "        self.linear_relu_stack = nn.Sequential(\n",
        "            nn.Linear(28*28, 512),\n",
        "            nn.ReLU(),\n",
        "            nn.Linear(512, 512),\n",
        "            nn.ReLU(),\n",
        "            nn.Linear(512, 10)\n",
        "        )\n",
        "\n",
        "    def forward(self, x):\n",
        "        x = self.flatten(x)\n",
        "        logits = self.linear_relu_stack(x)\n",
        "        return logits\n",
        "model = NeuralNetwork().to(device)\n",
        "print(model)"
      ],
      "execution_count": null,
      "outputs": [
        {
          "output_type": "stream",
          "name": "stdout",
          "text": [
            "NeuralNetwork(\n",
            "  (flatten): Flatten(start_dim=1, end_dim=-1)\n",
            "  (linear_relu_stack): Sequential(\n",
            "    (0): Linear(in_features=784, out_features=512, bias=True)\n",
            "    (1): ReLU()\n",
            "    (2): Linear(in_features=512, out_features=512, bias=True)\n",
            "    (3): ReLU()\n",
            "    (4): Linear(in_features=512, out_features=10, bias=True)\n",
            "  )\n",
            ")\n"
          ]
        }
      ]
    },
    {
      "cell_type": "markdown",
      "metadata": {
        "id": "VxsKZVTR9PL5"
      },
      "source": [
        "Para treinar o modelo, é necessario uma __Função de perda__ e a utilização do pacote __torch.optim__"
      ]
    },
    {
      "cell_type": "code",
      "metadata": {
        "id": "dSYyeH9m91-q"
      },
      "source": [
        "loss_fn = nn.CrossEntropyLoss()\n",
        "optimizer = torch.optim.SGD(model.parameters(), lr=1e-3)"
      ],
      "execution_count": null,
      "outputs": []
    },
    {
      "cell_type": "markdown",
      "metadata": {
        "id": "0oL--_qX-Aw0"
      },
      "source": [
        "Nossa função __train__ irá realizar previsões e aplicar a __retropropagação__."
      ]
    },
    {
      "cell_type": "code",
      "metadata": {
        "id": "lQeym5x7-tyN"
      },
      "source": [
        "def train(dataloader, model, loss_fn, optimizer):\n",
        "    size = len(dataloader.dataset)\n",
        "    model.train()\n",
        "    for batch, (X, y) in enumerate(dataloader):\n",
        "        X, y = X.to(device), y.to(device)\n",
        "\n",
        "        # Compute prediction error\n",
        "        pred = model(X)\n",
        "        loss = loss_fn(pred, y)\n",
        "\n",
        "        # Backpropagation\n",
        "        optimizer.zero_grad()\n",
        "        loss.backward()\n",
        "        optimizer.step()\n",
        "\n",
        "        if batch % 100 == 0:\n",
        "            loss, current = loss.item(), batch * len(X)\n",
        "            print(f\"loss: {loss:>7f}  [{current:>5d}/{size:>5d}]\")"
      ],
      "execution_count": null,
      "outputs": []
    },
    {
      "cell_type": "markdown",
      "metadata": {
        "id": "GPfSQVvM-xNE"
      },
      "source": [
        "Agora verificamos a perfomance do nosso modelo contra o dataset de testes para certificamos que está havendo aprendizagem."
      ]
    },
    {
      "cell_type": "code",
      "metadata": {
        "id": "Y395F7yp-9tS"
      },
      "source": [
        "def test(dataloader, model, loss_fn):\n",
        "    size = len(dataloader.dataset)\n",
        "    num_batches = len(dataloader)\n",
        "    model.eval()\n",
        "    test_loss, correct = 0, 0\n",
        "    with torch.no_grad():\n",
        "        for X, y in dataloader:\n",
        "            X, y = X.to(device), y.to(device)\n",
        "            pred = model(X)\n",
        "            test_loss += loss_fn(pred, y).item()\n",
        "            correct += (pred.argmax(1) == y).type(torch.float).sum().item()\n",
        "    test_loss /= num_batches\n",
        "    correct /= size\n",
        "    print(f\"Test Error: \\n Accuracy: {(100*correct):>0.1f}%, Avg loss: {test_loss:>8f} \\n\")"
      ],
      "execution_count": null,
      "outputs": []
    },
    {
      "cell_type": "markdown",
      "metadata": {
        "id": "gI0aQPHE_CNP"
      },
      "source": [
        "Agora interamos e observamos as predições do nosso modelo atráves dos nossos loops (__epochs__)."
      ]
    },
    {
      "cell_type": "code",
      "metadata": {
        "colab": {
          "base_uri": "https://localhost:8080/"
        },
        "id": "22axxLxK_W2x",
        "outputId": "4092ea24-1bfa-403a-9fe3-3d5426a18acd"
      },
      "source": [
        "epochs = 5\n",
        "for t in range(epochs):\n",
        "    print(f\"Epoch {t+1}\\n-------------------------------\")\n",
        "    train(train_dataloader, model, loss_fn, optimizer)\n",
        "    test(test_dataloader, model, loss_fn)\n",
        "print(\"Done!\")"
      ],
      "execution_count": null,
      "outputs": [
        {
          "output_type": "stream",
          "name": "stdout",
          "text": [
            "Epoch 1\n",
            "-------------------------------\n",
            "loss: 2.301728  [    0/60000]\n",
            "loss: 2.290676  [ 6400/60000]\n",
            "loss: 2.268679  [12800/60000]\n",
            "loss: 2.263580  [19200/60000]\n",
            "loss: 2.257564  [25600/60000]\n",
            "loss: 2.213328  [32000/60000]\n",
            "loss: 2.228776  [38400/60000]\n",
            "loss: 2.185699  [44800/60000]\n",
            "loss: 2.189754  [51200/60000]\n",
            "loss: 2.157249  [57600/60000]\n",
            "Test Error: \n",
            " Accuracy: 42.1%, Avg loss: 2.149804 \n",
            "\n",
            "Epoch 2\n",
            "-------------------------------\n",
            "loss: 2.156303  [    0/60000]\n",
            "loss: 2.149370  [ 6400/60000]\n",
            "loss: 2.089719  [12800/60000]\n",
            "loss: 2.106976  [19200/60000]\n",
            "loss: 2.060158  [25600/60000]\n",
            "loss: 1.982441  [32000/60000]\n",
            "loss: 2.022568  [38400/60000]\n",
            "loss: 1.927657  [44800/60000]\n",
            "loss: 1.949358  [51200/60000]\n",
            "loss: 1.877439  [57600/60000]\n",
            "Test Error: \n",
            " Accuracy: 52.0%, Avg loss: 1.869760 \n",
            "\n",
            "Epoch 3\n",
            "-------------------------------\n",
            "loss: 1.904833  [    0/60000]\n",
            "loss: 1.873433  [ 6400/60000]\n",
            "loss: 1.760838  [12800/60000]\n",
            "loss: 1.800927  [19200/60000]\n",
            "loss: 1.695609  [25600/60000]\n",
            "loss: 1.636733  [32000/60000]\n",
            "loss: 1.671653  [38400/60000]\n",
            "loss: 1.560238  [44800/60000]\n",
            "loss: 1.605983  [51200/60000]\n",
            "loss: 1.500195  [57600/60000]\n",
            "Test Error: \n",
            " Accuracy: 59.6%, Avg loss: 1.509718 \n",
            "\n",
            "Epoch 4\n",
            "-------------------------------\n",
            "loss: 1.580819  [    0/60000]\n",
            "loss: 1.544482  [ 6400/60000]\n",
            "loss: 1.401992  [12800/60000]\n",
            "loss: 1.470290  [19200/60000]\n",
            "loss: 1.353716  [25600/60000]\n",
            "loss: 1.339662  [32000/60000]\n",
            "loss: 1.365395  [38400/60000]\n",
            "loss: 1.279197  [44800/60000]\n",
            "loss: 1.327168  [51200/60000]\n",
            "loss: 1.233383  [57600/60000]\n",
            "Test Error: \n",
            " Accuracy: 62.8%, Avg loss: 1.249007 \n",
            "\n",
            "Epoch 5\n",
            "-------------------------------\n",
            "loss: 1.323906  [    0/60000]\n",
            "loss: 1.310254  [ 6400/60000]\n",
            "loss: 1.150519  [12800/60000]\n",
            "loss: 1.254771  [19200/60000]\n",
            "loss: 1.125687  [25600/60000]\n",
            "loss: 1.143194  [32000/60000]\n",
            "loss: 1.174963  [38400/60000]\n",
            "loss: 1.103091  [44800/60000]\n",
            "loss: 1.150934  [51200/60000]\n",
            "loss: 1.074805  [57600/60000]\n",
            "Test Error: \n",
            " Accuracy: 64.7%, Avg loss: 1.085509 \n",
            "\n",
            "Done!\n"
          ]
        }
      ]
    },
    {
      "cell_type": "markdown",
      "metadata": {
        "id": "d6Hrg1Ey_9ms"
      },
      "source": [
        "Salvando o modelo\n"
      ]
    },
    {
      "cell_type": "code",
      "metadata": {
        "colab": {
          "base_uri": "https://localhost:8080/"
        },
        "id": "Z30vr91I_wA3",
        "outputId": "1a084337-02a3-4149-a28d-10022df07d5d"
      },
      "source": [
        "torch.save(model.state_dict(), \"model.pth\")\n",
        "print(\"Saved PyTorch Model State to model.pth\")"
      ],
      "execution_count": null,
      "outputs": [
        {
          "output_type": "stream",
          "name": "stdout",
          "text": [
            "Saved PyTorch Model State to model.pth\n"
          ]
        }
      ]
    },
    {
      "cell_type": "markdown",
      "metadata": {
        "id": "Xa4jwo4oAE3P"
      },
      "source": [
        "Carregando o modelo."
      ]
    },
    {
      "cell_type": "code",
      "metadata": {
        "colab": {
          "base_uri": "https://localhost:8080/"
        },
        "id": "7LixwUT0_yRn",
        "outputId": "edb6460a-77b9-4ac4-a3ea-8dc3149e92b8"
      },
      "source": [
        "model = NeuralNetwork()\n",
        "model.load_state_dict(torch.load(\"model.pth\"))"
      ],
      "execution_count": null,
      "outputs": [
        {
          "output_type": "execute_result",
          "data": {
            "text/plain": [
              "<All keys matched successfully>"
            ]
          },
          "metadata": {},
          "execution_count": 11
        }
      ]
    },
    {
      "cell_type": "code",
      "metadata": {
        "colab": {
          "base_uri": "https://localhost:8080/"
        },
        "id": "EpJtAqzo_44U",
        "outputId": "e93695a5-32a1-40d1-8d03-45fb64ab50e0"
      },
      "source": [
        "classes = [\n",
        "    \"T-shirt/top\",\n",
        "    \"Trouser\",\n",
        "    \"Pullover\",\n",
        "    \"Dress\",\n",
        "    \"Coat\",\n",
        "    \"Sandal\",\n",
        "    \"Shirt\",\n",
        "    \"Sneaker\",\n",
        "    \"Bag\",\n",
        "    \"Ankle boot\",\n",
        "]\n",
        "\n",
        "model.eval()\n",
        "x, y = test_data[0][0], test_data[0][1]\n",
        "with torch.no_grad():\n",
        "    pred = model(x)\n",
        "    predicted, actual = classes[pred[0].argmax(0)], classes[y]\n",
        "    print(f'Predicted: \"{predicted}\", Actual: \"{actual}\"')"
      ],
      "execution_count": null,
      "outputs": [
        {
          "output_type": "stream",
          "name": "stdout",
          "text": [
            "Predicted: \"Ankle boot\", Actual: \"Ankle boot\"\n"
          ]
        }
      ]
    }
  ]
}